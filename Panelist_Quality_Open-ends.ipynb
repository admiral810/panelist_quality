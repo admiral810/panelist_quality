{
 "cells": [
  {
   "cell_type": "code",
   "execution_count": 21,
   "metadata": {},
   "outputs": [],
   "source": [
    "import numpy as np\n",
    "import pandas as pd\n",
    "pd.set_option('display.max_columns', 500)  #allows display of all columns in dfs\n",
    "\n",
    "from sqlalchemy.ext.automap import automap_base\n",
    "from sqlalchemy.orm import Session\n",
    "from sqlalchemy import create_engine\n",
    "\n",
    "import snowflake.connector\n",
    "from snowflake.sqlalchemy import URL"
   ]
  },
  {
   "cell_type": "code",
   "execution_count": 22,
   "metadata": {},
   "outputs": [],
   "source": [
    "# establish Snowflake connection\n",
    "\n",
    "# import sys\n",
    "# sys.path.insert(0, '../Key')\n",
    "\n",
    "# from snowflake_key import user, account, host\n",
    "\n",
    "\n",
    "# url = URL(\n",
    "#     user = user,\n",
    "#     account = account,\n",
    "#     host = host,\n",
    "#     authenticator='externalbrowser',\n",
    "#     warehouse='ISC_BI',\n",
    "#     database='INFOSCOUT'\n",
    "# )\n"
   ]
  },
  {
   "cell_type": "code",
   "execution_count": 23,
   "metadata": {},
   "outputs": [],
   "source": [
    "# # create engine\n",
    "# engine = create_engine(url)\n",
    "# connection = engine.connect()"
   ]
  },
  {
   "cell_type": "code",
   "execution_count": 24,
   "metadata": {},
   "outputs": [],
   "source": [
    "import torch\n",
    "from transformers import BertForNextSentencePrediction, BertTokenizer"
   ]
  },
  {
   "cell_type": "code",
   "execution_count": 25,
   "metadata": {},
   "outputs": [
    {
     "name": "stderr",
     "output_type": "stream",
     "text": [
      "Some weights of the model checkpoint at bert-base-uncased were not used when initializing BertForNextSentencePrediction: ['cls.predictions.transform.dense.weight', 'cls.predictions.transform.LayerNorm.bias', 'cls.predictions.transform.dense.bias', 'cls.predictions.bias', 'cls.predictions.transform.LayerNorm.weight', 'cls.predictions.decoder.weight']\n",
      "- This IS expected if you are initializing BertForNextSentencePrediction from the checkpoint of a model trained on another task or with another architecture (e.g. initializing a BertForSequenceClassification model from a BertForPreTraining model).\n",
      "- This IS NOT expected if you are initializing BertForNextSentencePrediction from the checkpoint of a model that you expect to be exactly identical (initializing a BertForSequenceClassification model from a BertForSequenceClassification model).\n"
     ]
    }
   ],
   "source": [
    "tokenizer = BertTokenizer.from_pretrained(\"bert-base-uncased\")\n",
    "model = BertForNextSentencePrediction.from_pretrained(\"bert-base-uncased\")"
   ]
  },
  {
   "cell_type": "code",
   "execution_count": 16,
   "metadata": {},
   "outputs": [],
   "source": [
    "question = \"Would you purchase this product again?\"\n",
    "# answer = \"I would buy every product this company sells\"\n",
    "answer = \"sakfljs;lfjks\"\n",
    "encoding = tokenizer(question, answer, return_tensors=\"pt\")"
   ]
  },
  {
   "cell_type": "code",
   "execution_count": 20,
   "metadata": {},
   "outputs": [
    {
     "name": "stdout",
     "output_type": "stream",
     "text": [
      "response score: 0.0005691330297850072, is good response: False\n"
     ]
    }
   ],
   "source": [
    "outputs = model(**encoding, labels=torch.LongTensor([1]))\n",
    "response_score = torch.softmax(outputs.logits, dim=1)[0, 0]\n",
    "is_good_response = response_score > 0.5\n",
    "print(f\"response score: {response_score}, is good response: {is_good_response}\")"
   ]
  },
  {
   "cell_type": "code",
   "execution_count": 32,
   "metadata": {},
   "outputs": [],
   "source": [
    "df = pd.read_csv('panelist_quality_test_data.csv')\n",
    "df = df.head(1000)"
   ]
  },
  {
   "cell_type": "code",
   "execution_count": null,
   "metadata": {},
   "outputs": [],
   "source": [
    "# create empty list for holding dataframes to concatenate\n",
    "dfs = []\n",
    "\n",
    "# iterate through df\n",
    "for row in df.itertuples():\n",
    "    user_id = row.user_id\n",
    "    question = row.question\n",
    "    answer = str(row.answer)\n",
    "    encoding = tokenizer(question, answer, return_tensors=\"pt\")\n",
    "    \n",
    "    # get score and if response classification\n",
    "    outputs = model(**encoding, labels=torch.LongTensor([1]))\n",
    "    response_score = torch.softmax(outputs.logits, dim=1)[0, 0]\n",
    "    is_good_response = response_score > 0.5\n",
    "    \n",
    "#     print(f\"response score: {answer} {response_score}, is good response: {is_good_response}\")\n",
    "    \n",
    "    temp_df = pd.DataFrame({\"user_id\" : [user_id],\n",
    "                           \"question\" : question,\n",
    "                           \"answer\" : [answer], \n",
    "                           \"response_score\" : float(response_score),\n",
    "                           \"is_good_response\" : bool(is_good_response)\n",
    "                           })\n",
    "    \n",
    "    dfs.append(temp_df) \n",
    "\n",
    "# combine dataframes\n",
    "results_df = pd.concat(dfs, ignore_index=True, sort=False)\n",
    "results_df.head()"
   ]
  },
  {
   "cell_type": "code",
   "execution_count": null,
   "metadata": {},
   "outputs": [],
   "source": [
    "results_df.to_csv(\"../open_end_quality_data.csv\", index=False)"
   ]
  },
  {
   "cell_type": "code",
   "execution_count": null,
   "metadata": {},
   "outputs": [],
   "source": []
  }
 ],
 "metadata": {
  "kernelspec": {
   "display_name": "Python 3",
   "language": "python",
   "name": "python3"
  },
  "language_info": {
   "codemirror_mode": {
    "name": "ipython",
    "version": 3
   },
   "file_extension": ".py",
   "mimetype": "text/x-python",
   "name": "python",
   "nbconvert_exporter": "python",
   "pygments_lexer": "ipython3",
   "version": "3.8.5"
  },
  "toc": {
   "base_numbering": 1,
   "nav_menu": {},
   "number_sections": true,
   "sideBar": true,
   "skip_h1_title": false,
   "title_cell": "Table of Contents",
   "title_sidebar": "Contents",
   "toc_cell": false,
   "toc_position": {},
   "toc_section_display": true,
   "toc_window_display": false
  }
 },
 "nbformat": 4,
 "nbformat_minor": 4
}
